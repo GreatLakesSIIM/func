{
 "cells": [
  {
   "cell_type": "code",
   "execution_count": 1,
   "metadata": {},
   "outputs": [],
   "source": [
    "import http.client\n",
    "\n",
    "conn = http.client.HTTPConnection(\"hackathon.siim.org\")\n",
    "\n",
    "payload = \"{\\n  \\\"resourceType\\\" : \\\"DiagnosticReport\\\",\\n  \\\"id\\\": \\\"a579375749379\\\",\\n  \\\"text\\\" : {\\n\\t  \\\"status\\\": \\\"generated\\\",\\n\\t  \\\"div\\\": \\\"No mass, hemorrhage or hydrocephalus. Basal ganglia and posterior fossa structures are normal. No established major vessel vascular territory infarct. No intra or extra axial collection. The basal cisterns and foramen magnum are patent.\\t    The air cells of the petrous temporal bone are non-opacified. No fracture demonstrated.\\n\\t\\t      Scans through the base of the brain are unremarkable. The oropharynx and nasopharynx are within normal limits. The airway is patent. The epiglottis and epiglottic folds are normal. The thyroid, submandibular, and parotid glands enhance homogenously. The vascular and osseous structures in the neck are intact. There is no lymphadenopathy. The visualized lung apices show a mass lesion of the left apex, homogenously enhancing 1.4 cm x 2.6 cm.\\\"\\n  },\\n  \\\"identifier\\\" : [\\n\\t  {\\n\\t\\t  \\\"use\\\": \\\"usual\\\",\\n\\t\\t  \\\"system\\\": \\\"http://www.siim.org/\\\",\\n\\t\\t  \\\"value\\\": \\\"a82375098312098375982\\\"\\n  }], \\n  \\\"status\\\" : \\\"final\\\",\\n  \\\"category\\\" : \\\"RAD\\\",\\n  \\\"code\\\" : { \\n \\t\\\"coding\\\" : [\\n\\t\\t{\\n\\t\\t\\t\\\"system\\\": \\\"http://hl7.org/fhir/v2/0074\\\",\\n\\t\\t\\t\\\"code\\\": \\\"ARC-3\\\"\\n\\t\\t}\\t\\n  \\t]\\n  },\\n  \\\"subject\\\" : { \\n\\t  \\\"reference\\\": \\\"Patient/siimronald9953\\\"\\n  }, \\n  \\\"effectiveDateTime\\\" : \\\"2019-06-26\\\",\\n  \\\"issued\\\" : \\\"2019-06-26T12:30:00\\\",\\n  \\\"performer\\\" : [\\n\\t  {\\n\\t\\t  \\\"reference\\\" : \\\"Organization/siim\\\",\\n\\t\\t  \\\"display\\\" : \\\"Society Of Imaging Informatics in Medicine\\\"\\n\\t  }\\n  ],\\n  \\\"media\\\" : [{\\n    \\\"comment\\\" : \\\"Thunderclap headache, suspicious for subarachnoid hemorrhage.\\\"\\n  }],\\n  \\\"conclusion\\\" : \\\"No acute intracranial process.Homogenously enhancing left lung mass, absent on prior CT\\\",\\n  \\\"conclusionCode\\\" : \\\"ACR-3\\\"\\n}\"\n",
    "\n",
    "headers = {\n",
    "    'apikey': \"47b3e565-287a-4805-8558-73c742190f60\",\n",
    "    'accept': \"application/json\",\n",
    "    'content-type': \"application/fhir+json\",\n",
    "    'cache-control': \"no-cache\",\n",
    "    'postman-token': \"f0a5053b-67ef-f36b-96c4-6868add10491\"\n",
    "    }\n",
    "\n",
    "conn.request(\"POST\", \"/fhir/DiagnosticReport/\", payload, headers)\n",
    "\n",
    "res = conn.getresponse()\n",
    "data = res.read()\n"
   ]
  },
  {
   "cell_type": "code",
   "execution_count": 4,
   "metadata": {},
   "outputs": [
    {
     "ename": "TypeError",
     "evalue": "argument should be integer or bytes-like object, not 'str'",
     "output_type": "error",
     "traceback": [
      "\u001b[0;31m---------------------------------------------------------------------------\u001b[0m",
      "\u001b[0;31mTypeError\u001b[0m                                 Traceback (most recent call last)",
      "\u001b[0;32m<ipython-input-4-952e77c27542>\u001b[0m in \u001b[0;36m<module>\u001b[0;34m()\u001b[0m\n\u001b[0;32m----> 1\u001b[0;31m \u001b[0msubject\u001b[0m \u001b[0;34m=\u001b[0m \u001b[0mdata\u001b[0m\u001b[0;34m.\u001b[0m\u001b[0mfind\u001b[0m\u001b[0;34m(\u001b[0m\u001b[0;34m'subject'\u001b[0m\u001b[0;34m)\u001b[0m\u001b[0;34m\u001b[0m\u001b[0;34m\u001b[0m\u001b[0m\n\u001b[0m",
      "\u001b[0;31mTypeError\u001b[0m: argument should be integer or bytes-like object, not 'str'"
     ]
    }
   ],
   "source": []
  },
  {
   "cell_type": "code",
   "execution_count": null,
   "metadata": {},
   "outputs": [],
   "source": []
  }
 ],
 "metadata": {
  "kernelspec": {
   "display_name": "Python 3",
   "language": "python",
   "name": "python3"
  },
  "language_info": {
   "codemirror_mode": {
    "name": "ipython",
    "version": 3
   },
   "file_extension": ".py",
   "mimetype": "text/x-python",
   "name": "python",
   "nbconvert_exporter": "python",
   "pygments_lexer": "ipython3",
   "version": "3.7.2"
  }
 },
 "nbformat": 4,
 "nbformat_minor": 2
}
